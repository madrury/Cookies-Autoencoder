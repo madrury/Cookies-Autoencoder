{
 "cells": [
  {
   "cell_type": "code",
   "execution_count": 1,
   "metadata": {},
   "outputs": [
    {
     "name": "stderr",
     "output_type": "stream",
     "text": [
      "/Users/matthewdrury/anaconda3/lib/python3.6/site-packages/matplotlib/__init__.py:800: MatplotlibDeprecationWarning: axes.color_cycle is deprecated and replaced with axes.prop_cycle; please use the latter.\n",
      "  mplDeprecation)\n",
      "Using TensorFlow backend.\n"
     ]
    }
   ],
   "source": [
    "%matplotlib inline\n",
    "\n",
    "import matplotlib.pyplot as plt\n",
    "import numpy as np\n",
    "import pandas as pd\n",
    "\n",
    "from sklearn.model_selection import train_test_split\n",
    "\n",
    "import keras\n",
    "from keras.datasets import mnist\n",
    "from keras.models import Sequential, Model\n",
    "from keras.layers import Dense\n",
    "from keras.optimizers import Adam"
   ]
  },
  {
   "cell_type": "code",
   "execution_count": 2,
   "metadata": {
    "collapsed": true
   },
   "outputs": [],
   "source": [
    "cookies = pd.read_excel('cookieclassifier_data_matrix.xlsx')"
   ]
  },
  {
   "cell_type": "code",
   "execution_count": 3,
   "metadata": {},
   "outputs": [
    {
     "data": {
      "text/html": [
       "<div>\n",
       "<style>\n",
       "    .dataframe thead tr:only-child th {\n",
       "        text-align: right;\n",
       "    }\n",
       "\n",
       "    .dataframe thead th {\n",
       "        text-align: left;\n",
       "    }\n",
       "\n",
       "    .dataframe tbody tr th {\n",
       "        vertical-align: top;\n",
       "    }\n",
       "</style>\n",
       "<table border=\"1\" class=\"dataframe\">\n",
       "  <thead>\n",
       "    <tr style=\"text-align: right;\">\n",
       "      <th></th>\n",
       "      <th>Italian seasoning</th>\n",
       "      <th>Worcestershire sauce</th>\n",
       "      <th>allspice</th>\n",
       "      <th>almonds</th>\n",
       "      <th>anchovies</th>\n",
       "      <th>anise</th>\n",
       "      <th>apples</th>\n",
       "      <th>apricots</th>\n",
       "      <th>arugula</th>\n",
       "      <th>bacon</th>\n",
       "      <th>...</th>\n",
       "      <th>tortillas</th>\n",
       "      <th>vanilla</th>\n",
       "      <th>vinegar</th>\n",
       "      <th>wafer cookies</th>\n",
       "      <th>walnuts</th>\n",
       "      <th>water</th>\n",
       "      <th>whipping cream</th>\n",
       "      <th>wine</th>\n",
       "      <th>yeast</th>\n",
       "      <th>zucchini</th>\n",
       "    </tr>\n",
       "  </thead>\n",
       "  <tbody>\n",
       "    <tr>\n",
       "      <th>Cookies</th>\n",
       "      <td>0</td>\n",
       "      <td>0</td>\n",
       "      <td>0</td>\n",
       "      <td>1</td>\n",
       "      <td>0</td>\n",
       "      <td>0</td>\n",
       "      <td>0</td>\n",
       "      <td>0</td>\n",
       "      <td>0</td>\n",
       "      <td>0</td>\n",
       "      <td>...</td>\n",
       "      <td>0</td>\n",
       "      <td>1</td>\n",
       "      <td>0</td>\n",
       "      <td>0</td>\n",
       "      <td>0</td>\n",
       "      <td>0</td>\n",
       "      <td>0</td>\n",
       "      <td>0</td>\n",
       "      <td>0</td>\n",
       "      <td>0</td>\n",
       "    </tr>\n",
       "    <tr>\n",
       "      <th>Pastries</th>\n",
       "      <td>0</td>\n",
       "      <td>0</td>\n",
       "      <td>0</td>\n",
       "      <td>0</td>\n",
       "      <td>0</td>\n",
       "      <td>0</td>\n",
       "      <td>0</td>\n",
       "      <td>0</td>\n",
       "      <td>0</td>\n",
       "      <td>0</td>\n",
       "      <td>...</td>\n",
       "      <td>0</td>\n",
       "      <td>1</td>\n",
       "      <td>0</td>\n",
       "      <td>0</td>\n",
       "      <td>0</td>\n",
       "      <td>0</td>\n",
       "      <td>0</td>\n",
       "      <td>0</td>\n",
       "      <td>0</td>\n",
       "      <td>0</td>\n",
       "    </tr>\n",
       "    <tr>\n",
       "      <th>Pizzas</th>\n",
       "      <td>0</td>\n",
       "      <td>0</td>\n",
       "      <td>0</td>\n",
       "      <td>0</td>\n",
       "      <td>1</td>\n",
       "      <td>0</td>\n",
       "      <td>0</td>\n",
       "      <td>0</td>\n",
       "      <td>0</td>\n",
       "      <td>0</td>\n",
       "      <td>...</td>\n",
       "      <td>0</td>\n",
       "      <td>0</td>\n",
       "      <td>0</td>\n",
       "      <td>0</td>\n",
       "      <td>0</td>\n",
       "      <td>0</td>\n",
       "      <td>0</td>\n",
       "      <td>0</td>\n",
       "      <td>0</td>\n",
       "      <td>0</td>\n",
       "    </tr>\n",
       "    <tr>\n",
       "      <th>Pastries</th>\n",
       "      <td>0</td>\n",
       "      <td>0</td>\n",
       "      <td>0</td>\n",
       "      <td>0</td>\n",
       "      <td>0</td>\n",
       "      <td>0</td>\n",
       "      <td>0</td>\n",
       "      <td>0</td>\n",
       "      <td>0</td>\n",
       "      <td>0</td>\n",
       "      <td>...</td>\n",
       "      <td>0</td>\n",
       "      <td>0</td>\n",
       "      <td>0</td>\n",
       "      <td>0</td>\n",
       "      <td>0</td>\n",
       "      <td>0</td>\n",
       "      <td>0</td>\n",
       "      <td>0</td>\n",
       "      <td>0</td>\n",
       "      <td>0</td>\n",
       "    </tr>\n",
       "    <tr>\n",
       "      <th>Cookies</th>\n",
       "      <td>0</td>\n",
       "      <td>0</td>\n",
       "      <td>0</td>\n",
       "      <td>1</td>\n",
       "      <td>0</td>\n",
       "      <td>0</td>\n",
       "      <td>0</td>\n",
       "      <td>0</td>\n",
       "      <td>0</td>\n",
       "      <td>0</td>\n",
       "      <td>...</td>\n",
       "      <td>0</td>\n",
       "      <td>1</td>\n",
       "      <td>0</td>\n",
       "      <td>0</td>\n",
       "      <td>0</td>\n",
       "      <td>0</td>\n",
       "      <td>0</td>\n",
       "      <td>0</td>\n",
       "      <td>0</td>\n",
       "      <td>0</td>\n",
       "    </tr>\n",
       "  </tbody>\n",
       "</table>\n",
       "<p>5 rows × 133 columns</p>\n",
       "</div>"
      ],
      "text/plain": [
       "          Italian seasoning  Worcestershire sauce  allspice  almonds  \\\n",
       "Cookies                   0                     0         0        1   \n",
       "Pastries                  0                     0         0        0   \n",
       "Pizzas                    0                     0         0        0   \n",
       "Pastries                  0                     0         0        0   \n",
       "Cookies                   0                     0         0        1   \n",
       "\n",
       "          anchovies  anise  apples  apricots  arugula  bacon    ...     \\\n",
       "Cookies           0      0       0         0        0      0    ...      \n",
       "Pastries          0      0       0         0        0      0    ...      \n",
       "Pizzas            1      0       0         0        0      0    ...      \n",
       "Pastries          0      0       0         0        0      0    ...      \n",
       "Cookies           0      0       0         0        0      0    ...      \n",
       "\n",
       "          tortillas  vanilla  vinegar  wafer cookies  walnuts  water  \\\n",
       "Cookies           0        1        0              0        0      0   \n",
       "Pastries          0        1        0              0        0      0   \n",
       "Pizzas            0        0        0              0        0      0   \n",
       "Pastries          0        0        0              0        0      0   \n",
       "Cookies           0        1        0              0        0      0   \n",
       "\n",
       "          whipping cream  wine  yeast  zucchini  \n",
       "Cookies                0     0      0         0  \n",
       "Pastries               0     0      0         0  \n",
       "Pizzas                 0     0      0         0  \n",
       "Pastries               0     0      0         0  \n",
       "Cookies                0     0      0         0  \n",
       "\n",
       "[5 rows x 133 columns]"
      ]
     },
     "execution_count": 3,
     "metadata": {},
     "output_type": "execute_result"
    }
   ],
   "source": [
    "cookies = cookies.sample(frac=1)\n",
    "cookies.head()"
   ]
  },
  {
   "cell_type": "code",
   "execution_count": 4,
   "metadata": {},
   "outputs": [
    {
     "data": {
      "text/plain": [
       "(1931, 133)"
      ]
     },
     "execution_count": 4,
     "metadata": {},
     "output_type": "execute_result"
    }
   ],
   "source": [
    "cookies.shape"
   ]
  },
  {
   "cell_type": "code",
   "execution_count": 5,
   "metadata": {
    "collapsed": true
   },
   "outputs": [],
   "source": [
    "X = cookies.values\n",
    "y = cookies.index"
   ]
  },
  {
   "cell_type": "code",
   "execution_count": 6,
   "metadata": {},
   "outputs": [
    {
     "data": {
      "text/plain": [
       "LabelEncoder()"
      ]
     },
     "execution_count": 6,
     "metadata": {},
     "output_type": "execute_result"
    }
   ],
   "source": [
    "from sklearn import preprocessing\n",
    "le = preprocessing.LabelEncoder()\n",
    "le.fit(y)"
   ]
  },
  {
   "cell_type": "code",
   "execution_count": 20,
   "metadata": {},
   "outputs": [],
   "source": [
    "y_numeric = le.transform(y)\n",
    "y_labels = le.transform(le.classes_)"
   ]
  },
  {
   "cell_type": "code",
   "execution_count": 8,
   "metadata": {
    "collapsed": true
   },
   "outputs": [],
   "source": [
    "X_train, X_test, y_train, y_test = train_test_split(X, y_numeric, test_size=0.3)"
   ]
  },
  {
   "cell_type": "code",
   "execution_count": 52,
   "metadata": {},
   "outputs": [],
   "source": [
    "m = Sequential()\n",
    "m.add(Dense(60,  activation='elu', input_shape=(133,)))\n",
    "m.add(Dense(40,  activation='elu'))\n",
    "m.add(Dense(20,  activation='elu'))\n",
    "m.add(Dense(10,  activation='elu'))\n",
    "m.add(Dense(2,    activation='linear', name=\"bottleneck\"))\n",
    "m.add(Dense(10,  activation='elu'))\n",
    "m.add(Dense(20,  activation='elu'))\n",
    "m.add(Dense(40,  activation='elu'))\n",
    "m.add(Dense(60,  activation='elu'))\n",
    "m.add(Dense(133,  activation='linear'))"
   ]
  },
  {
   "cell_type": "code",
   "execution_count": 53,
   "metadata": {},
   "outputs": [
    {
     "name": "stdout",
     "output_type": "stream",
     "text": [
      "Train on 1351 samples, validate on 580 samples\n",
      "Epoch 1/5\n",
      "1351/1351 [==============================] - 0s - loss: 0.0614 - val_loss: 0.0541\n",
      "Epoch 2/5\n",
      "1351/1351 [==============================] - 0s - loss: 0.0483 - val_loss: 0.0419\n",
      "Epoch 3/5\n",
      "1351/1351 [==============================] - 0s - loss: 0.0396 - val_loss: 0.0376\n",
      "Epoch 4/5\n",
      "1351/1351 [==============================] - 0s - loss: 0.0366 - val_loss: 0.0355\n",
      "Epoch 5/5\n",
      "1351/1351 [==============================] - 0s - loss: 0.0351 - val_loss: 0.0346\n"
     ]
    }
   ],
   "source": [
    "m.compile(loss='mean_squared_error', optimizer = Adam())\n",
    "history = m.fit(X_train, X_train, batch_size=128, epochs=5, verbose=1, \n",
    "                validation_data=(X_test, X_test))\n",
    "\n",
    "encoder = Model(m.input, m.get_layer('bottleneck').output)\n",
    "z_enc = encoder.predict(X_train)  # bottleneck representation\n",
    "r_enc = m.predict(X_train)        # reconstruction"
   ]
  },
  {
   "cell_type": "code",
   "execution_count": 54,
   "metadata": {},
   "outputs": [
    {
     "data": {
      "text/plain": [
       "<matplotlib.legend.Legend at 0x1c20e4fe80>"
      ]
     },
     "execution_count": 54,
     "metadata": {},
     "output_type": "execute_result"
    },
    {
     "data": {
      "image/png": "[encoded data removed]",
      "text/plain": [
       "<matplotlib.figure.Figure at 0x1c217505f8>"
      ]
     },
     "metadata": {},
     "output_type": "display_data"
    }
   ],
   "source": [
    "fig, ax = plt.subplots(figsize=(10, 10))\n",
    "\n",
    "for label, class_name in zip(y_labels, le.classes_):\n",
    "    z0 = z_enc[:, 0][y_train == label]\n",
    "    z1 = z_enc[:, 1][y_train == label]\n",
    "    ax.scatter(z0, z1, label=class_name)\n",
    "ax.legend()"
   ]
  },
  {
   "cell_type": "code",
   "execution_count": 21,
   "metadata": {},
   "outputs": [
    {
     "data": {
      "text/plain": [
       "array([0, 1, 2])"
      ]
     },
     "execution_count": 21,
     "metadata": {},
     "output_type": "execute_result"
    }
   ],
   "source": [
    "y_labels"
   ]
  },
  {
   "cell_type": "code",
   "execution_count": null,
   "metadata": {
    "collapsed": true
   },
   "outputs": [],
   "source": []
  }
 ],
 "metadata": {
  "kernelspec": {
   "display_name": "Python 3",
   "language": "python",
   "name": "python3"
  },
  "language_info": {
   "codemirror_mode": {
    "name": "ipython",
    "version": 3
   },
   "file_extension": ".py",
   "mimetype": "text/x-python",
   "name": "python",
   "nbconvert_exporter": "python",
   "pygments_lexer": "ipython3",
   "version": "3.6.3"
  }
 },
 "nbformat": 4,
 "nbformat_minor": 2
}
